{
 "cells": [
  {
   "attachments": {},
   "cell_type": "markdown",
   "metadata": {},
   "source": [
    "# Control óptimo para un modelo SIR estocástico multipoblacional\n",
    "\n",
    "## Francisco Valentín Valerio López\n",
    "## Facultad de Ciencias Físico Matemáticas - Benemérita Universidad Autónoma de Puebla\n",
    "\n",
    "### Introducción\n",
    "\n",
    "Hemos llegado al punto final de esta investigación. "
   ]
  }
 ],
 "metadata": {
  "language_info": {
   "name": "python"
  },
  "orig_nbformat": 4
 },
 "nbformat": 4,
 "nbformat_minor": 2
}
